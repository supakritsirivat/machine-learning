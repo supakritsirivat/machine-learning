{
 "cells": [
  {
   "cell_type": "markdown",
   "id": "59d9cd75",
   "metadata": {
    "slideshow": {
     "slide_type": "slide"
    }
   },
   "source": [
    "# Aggregations: Min, Max, and Everything In Between\n",
    "\n",
    "When faced with large amounts of data, summary statistics are useful to first calculate:"
   ]
  },
  {
   "cell_type": "markdown",
   "id": "9fd67fc2",
   "metadata": {
    "slideshow": {
     "slide_type": "fragment"
    }
   },
   "source": [
    "Mean"
   ]
  },
  {
   "cell_type": "markdown",
   "id": "f597832b",
   "metadata": {
    "slideshow": {
     "slide_type": "fragment"
    }
   },
   "source": [
    "Standard Deviation"
   ]
  },
  {
   "cell_type": "markdown",
   "id": "64f6eb00",
   "metadata": {
    "slideshow": {
     "slide_type": "fragment"
    }
   },
   "source": [
    "As well as the sum, product, median, min, max etc..."
   ]
  },
  {
   "cell_type": "markdown",
   "id": "28a88399",
   "metadata": {
    "slideshow": {
     "slide_type": "slide"
    }
   },
   "source": [
    "## Summing the Values in an Array\n",
    "\n",
    "Consider computing the sum of all values in an array. *Python* itself can do this using the built-in `sum` function"
   ]
  },
  {
   "cell_type": "code",
   "execution_count": 2,
   "id": "ae615cef",
   "metadata": {
    "slideshow": {
     "slide_type": "fragment"
    }
   },
   "outputs": [],
   "source": [
    "import numpy as np"
   ]
  },
  {
   "cell_type": "code",
   "execution_count": 17,
   "id": "523d0983",
   "metadata": {
    "slideshow": {
     "slide_type": "fragment"
    }
   },
   "outputs": [
    {
     "name": "stdout",
     "output_type": "stream",
     "text": [
      "[0.8692327  0.52318882 0.23838106 0.09583998 0.53017018 0.21935611\n",
      " 0.23110227 0.09113421 0.52983548 0.50155933 0.92751921 0.0708324\n",
      " 0.38478745 0.2041464  0.63505574 0.31868033 0.80185785 0.72689133\n",
      " 0.46786489 0.25712597 0.22140333 0.46753076 0.95561369 0.3695079\n",
      " 0.09131885 0.73658204 0.39173207 0.96029429 0.21883666 0.57362115\n",
      " 0.92248169 0.81342367 0.18315584 0.38813939 0.86979765 0.37154428\n",
      " 0.91910859 0.19126921 0.75024288 0.69840037 0.51516287 0.77985524\n",
      " 0.84837028 0.88347162 0.87707479 0.87245886 0.32733371 0.32378645\n",
      " 0.60799297 0.76921133 0.44987621 0.74381298 0.09368146 0.31938362\n",
      " 0.78047025 0.80408048 0.26527626 0.4004237  0.7454391  0.41719781\n",
      " 0.08614407 0.48358757 0.97020433 0.86607338 0.57926157 0.21036318\n",
      " 0.29227501 0.18829537 0.19916673 0.18804863 0.65359449 0.96103696\n",
      " 0.19366227 0.004019   0.71158257 0.67649865 0.79034104 0.94205754\n",
      " 0.07985293 0.82589429 0.55538706 0.77282456 0.05098478 0.98295873\n",
      " 0.78434213 0.99577127 0.7250292  0.36887608 0.70698237 0.28301435\n",
      " 0.5814216  0.06029903 0.91033245 0.63091391 0.0496278  0.31844651\n",
      " 0.51553154 0.2138223  0.29033692 0.42611396]\n"
     ]
    },
    {
     "data": {
      "text/plain": [
       "51.66790211205794"
      ]
     },
     "execution_count": 17,
     "metadata": {},
     "output_type": "execute_result"
    }
   ],
   "source": [
    "L = np.random.random(100)\n",
    "print(L)\n",
    "sum(L)"
   ]
  },
  {
   "cell_type": "code",
   "execution_count": null,
   "id": "8705e36f",
   "metadata": {
    "slideshow": {
     "slide_type": "fragment"
    }
   },
   "outputs": [],
   "source": [
    "# similar to NumPy's syntax\n",
    "\n",
    "np.sum(L)"
   ]
  },
  {
   "cell_type": "markdown",
   "id": "a4b9aa96",
   "metadata": {
    "slideshow": {
     "slide_type": "slide"
    }
   },
   "source": [
    "However, because it executes the operation in compiled code, NumPy's version of the operation is computed much more quickly:"
   ]
  },
  {
   "cell_type": "code",
   "execution_count": 18,
   "id": "c347d12c",
   "metadata": {
    "slideshow": {
     "slide_type": "fragment"
    }
   },
   "outputs": [
    {
     "name": "stdout",
     "output_type": "stream",
     "text": [
      "47.1 ms ± 1.42 ms per loop (mean ± std. dev. of 7 runs, 10 loops each)\n",
      "251 µs ± 3.27 µs per loop (mean ± std. dev. of 7 runs, 1,000 loops each)\n"
     ]
    }
   ],
   "source": [
    "big_array = np.random.rand(1000000)\n",
    "%timeit sum(big_array)\n",
    "%timeit np.sum(big_array)"
   ]
  },
  {
   "cell_type": "markdown",
   "id": "c4651228",
   "metadata": {
    "slideshow": {
     "slide_type": "slide"
    }
   },
   "source": [
    "## Minimum and Maximum\n",
    "\n",
    "*Python* has built-in min and max functions, used to find the minimum value and maximum value of any given array:"
   ]
  },
  {
   "cell_type": "code",
   "execution_count": 19,
   "id": "ca632e67",
   "metadata": {
    "slideshow": {
     "slide_type": "fragment"
    }
   },
   "outputs": [
    {
     "name": "stdout",
     "output_type": "stream",
     "text": [
      "63.4 ms ± 1.36 ms per loop (mean ± std. dev. of 7 runs, 10 loops each)\n"
     ]
    }
   ],
   "source": [
    "%timeit min(big_array), max(big_array)"
   ]
  },
  {
   "cell_type": "code",
   "execution_count": 20,
   "id": "79ce51cf",
   "metadata": {
    "slideshow": {
     "slide_type": "fragment"
    }
   },
   "outputs": [
    {
     "name": "stdout",
     "output_type": "stream",
     "text": [
      "490 µs ± 5.43 µs per loop (mean ± std. dev. of 7 runs, 1,000 loops each)\n"
     ]
    }
   ],
   "source": [
    "%timeit np.min(big_array), np.max(big_array)"
   ]
  },
  {
   "cell_type": "code",
   "execution_count": 21,
   "id": "5611ba6e",
   "metadata": {
    "slideshow": {
     "slide_type": "fragment"
    }
   },
   "outputs": [
    {
     "data": {
      "text/plain": [
       "(2.6893013055362402e-06, 0.9999963209339819)"
      ]
     },
     "execution_count": 21,
     "metadata": {},
     "output_type": "execute_result"
    }
   ],
   "source": [
    "np.min(big_array), np.max(big_array)"
   ]
  },
  {
   "cell_type": "code",
   "execution_count": 24,
   "id": "c3a5ff88",
   "metadata": {
    "slideshow": {
     "slide_type": "fragment"
    }
   },
   "outputs": [
    {
     "name": "stdout",
     "output_type": "stream",
     "text": [
      "2.6893013055362402e-06 0.9999963209339819 500080.4998746785\n"
     ]
    }
   ],
   "source": [
    "# more convenient syntax in NumPy\n",
    "\n",
    "print(big_array.min(), big_array.max(), big_array.sum())"
   ]
  },
  {
   "cell_type": "markdown",
   "id": "94b38633",
   "metadata": {
    "slideshow": {
     "slide_type": "slide"
    }
   },
   "source": [
    "## Multi dimensional aggregates\n",
    "\n",
    "One common type of aggregation operation is an aggregate along a row or column e.g:"
   ]
  },
  {
   "cell_type": "code",
   "execution_count": 25,
   "id": "5478de5a",
   "metadata": {
    "slideshow": {
     "slide_type": "fragment"
    }
   },
   "outputs": [
    {
     "name": "stdout",
     "output_type": "stream",
     "text": [
      "[[0.74229512 0.49491176 0.01201728 0.83565784]\n",
      " [0.72911455 0.26412113 0.80595128 0.84426498]\n",
      " [0.65642945 0.33270641 0.68787962 0.8754472 ]]\n"
     ]
    }
   ],
   "source": [
    "M = np.random.random((3, 4))\n",
    "print(M)"
   ]
  },
  {
   "cell_type": "code",
   "execution_count": 26,
   "id": "ee5195e7",
   "metadata": {
    "slideshow": {
     "slide_type": "fragment"
    }
   },
   "outputs": [
    {
     "data": {
      "text/plain": [
       "7.280796620831143"
      ]
     },
     "execution_count": 26,
     "metadata": {},
     "output_type": "execute_result"
    }
   ],
   "source": [
    "# By default, each NumPy aggregation function will return aggregate over entire array\n",
    "M.sum()"
   ]
  },
  {
   "cell_type": "markdown",
   "id": "e490012b",
   "metadata": {
    "slideshow": {
     "slide_type": "subslide"
    }
   },
   "source": [
    "Aggregation functions take an additional argument specifying the axis along which the aggregate is computed. \n",
    "\n",
    "For example, we can find the minimum value within each column by specifying `axis=0`:"
   ]
  },
  {
   "cell_type": "code",
   "execution_count": 27,
   "id": "fcd41e7c",
   "metadata": {
    "slideshow": {
     "slide_type": "fragment"
    }
   },
   "outputs": [
    {
     "data": {
      "text/plain": [
       "array([[0.74229512, 0.49491176, 0.01201728, 0.83565784],\n",
       "       [0.72911455, 0.26412113, 0.80595128, 0.84426498],\n",
       "       [0.65642945, 0.33270641, 0.68787962, 0.8754472 ]])"
      ]
     },
     "execution_count": 27,
     "metadata": {},
     "output_type": "execute_result"
    }
   ],
   "source": [
    "M"
   ]
  },
  {
   "cell_type": "code",
   "execution_count": 32,
   "id": "e5b39b2e",
   "metadata": {
    "slideshow": {
     "slide_type": "fragment"
    }
   },
   "outputs": [
    {
     "data": {
      "text/plain": [
       "array([0.65642945, 0.26412113, 0.01201728, 0.83565784])"
      ]
     },
     "execution_count": 32,
     "metadata": {},
     "output_type": "execute_result"
    }
   ],
   "source": [
    "M.min(axis=0)"
   ]
  },
  {
   "cell_type": "code",
   "execution_count": 38,
   "id": "deb22743",
   "metadata": {
    "slideshow": {
     "slide_type": "fragment"
    }
   },
   "outputs": [
    {
     "data": {
      "text/plain": [
       "array([0.83565784, 0.84426498, 0.8754472 ])"
      ]
     },
     "execution_count": 38,
     "metadata": {},
     "output_type": "execute_result"
    }
   ],
   "source": [
    "# max in each row\n",
    "M.max(axis=1)"
   ]
  },
  {
   "cell_type": "code",
   "execution_count": 40,
   "id": "f9f80d08",
   "metadata": {},
   "outputs": [
    {
     "data": {
      "text/plain": [
       "array([0.84579759, 0.72708319, 0.97465131])"
      ]
     },
     "execution_count": 40,
     "metadata": {},
     "output_type": "execute_result"
    }
   ],
   "source": [
    "N = np.random.random((3, 3))\n",
    "N.max(axis=0)"
   ]
  },
  {
   "cell_type": "code",
   "execution_count": 44,
   "id": "c27634b0",
   "metadata": {},
   "outputs": [
    {
     "data": {
      "text/plain": [
       "array([0.34094031, 0.0186571 , 0.30080211])"
      ]
     },
     "execution_count": 44,
     "metadata": {},
     "output_type": "execute_result"
    }
   ],
   "source": [
    "N.min(axis=1)"
   ]
  },
  {
   "cell_type": "markdown",
   "id": "ff9f235b",
   "metadata": {
    "slideshow": {
     "slide_type": "slide"
    }
   },
   "source": [
    "### Other aggregation functions\n",
    "\n",
    "The following table provides a list of useful aggregation functions available in NumPy:\n",
    "\n",
    "|Function Name      |   NaN-safe Version  | Description                                   |\n",
    "|-------------------|---------------------|-----------------------------------------------|\n",
    "| ``np.sum``        | ``np.nansum``       | Compute sum of elements                       |\n",
    "| ``np.prod``       | ``np.nanprod``      | Compute product of elements                   |\n",
    "| ``np.mean``       | ``np.nanmean``      | Compute mean of elements                      |\n",
    "| ``np.std``        | ``np.nanstd``       | Compute standard deviation                    |\n",
    "| ``np.var``        | ``np.nanvar``       | Compute variance                              |\n",
    "| ``np.min``        | ``np.nanmin``       | Find minimum value                            |\n",
    "| ``np.max``        | ``np.nanmax``       | Find maximum value                            |\n",
    "| ``np.argmin``     | ``np.nanargmin``    | Find index of minimum value                   |\n",
    "| ``np.argmax``     | ``np.nanargmax``    | Find index of maximum value                   |\n",
    "| ``np.median``     | ``np.nanmedian``    | Compute median of elements                    |\n",
    "| ``np.percentile`` | ``np.nanpercentile``| Compute rank-based statistics of elements     |\n",
    "| ``np.any``        | N/A                 | Evaluate whether any elements are true        |\n",
    "| ``np.all``        | N/A                 | Evaluate whether all elements are true        |"
   ]
  },
  {
   "cell_type": "code",
   "execution_count": 50,
   "id": "51a7522b",
   "metadata": {},
   "outputs": [
    {
     "name": "stdout",
     "output_type": "stream",
     "text": [
      "True\n",
      "False\n",
      "True\n"
     ]
    }
   ],
   "source": [
    "print(np.any([0,5,6,78,10]))\n",
    "print(np.any([0,0]))\n",
    "print(np.any([1,1]))\n",
    "\n",
    "# OR\n"
   ]
  },
  {
   "cell_type": "code",
   "execution_count": 49,
   "id": "8da7ce32",
   "metadata": {},
   "outputs": [
    {
     "name": "stdout",
     "output_type": "stream",
     "text": [
      "False\n",
      "False\n",
      "True\n"
     ]
    }
   ],
   "source": [
    "print(np.all([0,5,6,78,10]))\n",
    "print(np.all([0,0]))\n",
    "print(np.all([1,1]))\n",
    "\n",
    "# AND\n"
   ]
  },
  {
   "cell_type": "markdown",
   "id": "819e81b0",
   "metadata": {
    "slideshow": {
     "slide_type": "slide"
    }
   },
   "source": [
    "# Example: What is the average networth of the world's richest people?\n",
    "\n",
    "Aggregates available in NumPy can be extremely useful for summarizing a set of values. As a simple example, let's consider the networth of the top 100 richest people. "
   ]
  },
  {
   "cell_type": "code",
   "execution_count": 54,
   "id": "e258a95e",
   "metadata": {
    "slideshow": {
     "slide_type": "fragment"
    }
   },
   "outputs": [
    {
     "name": "stderr",
     "output_type": "stream",
     "text": [
      "'head' is not recognized as an internal or external command,\n",
      "operable program or batch file.\n"
     ]
    }
   ],
   "source": [
    "#csv from https://github.com/richard512/Little-Big-Data/blob/master/top100-richest-people.csv\n",
    "!head -4 top100-richest-people.csv"
   ]
  },
  {
   "cell_type": "code",
   "execution_count": 52,
   "id": "9092666d",
   "metadata": {
    "slideshow": {
     "slide_type": "subslide"
    }
   },
   "outputs": [
    {
     "name": "stdout",
     "output_type": "stream",
     "text": [
      "[86000000000 71000000000 70200000000 70000000000 68000000000 50000000000\n",
      " 50000000000 48000000000 46000000000 43500000000 43000000000 42500000000\n",
      " 41000000000 40000000000 38500000000 37200000000 37100000000 37100000000\n",
      " 37000000000 36700000000 36500000000 36000000000 34000000000 30000000000\n",
      " 30000000000 28900000000 28500000000 28050000000 26900000000 25900000000\n",
      " 24400000000 24400000000 24400000000 23800000000 23400000000 23000000000\n",
      " 23000000000 23000000000 22800000000 22500000000 21300000000 21200000000\n",
      " 21000000000 21000000000 20100000000 20100000000 20000000000 20000000000\n",
      " 20000000000 20000000000 19700000000 19600000000 19500000000 19400000000\n",
      " 19300000000 19100000000 18200000000 18000000000 18000000000 17500000000\n",
      " 17300000000 17300000000 17100000000 17100000000 16600000000 16500000000\n",
      " 16200000000 16200000000 16200000000 15800000000 15700000000 15500000000\n",
      " 15500000000 15500000000 15400000000 15200000000 15200000000 14900000000\n",
      " 14800000000 14800000000 14700000000 14500000000 14500000000 14500000000\n",
      " 14300000000 14200000000 14200000000 14200000000 14200000000 14100000000\n",
      " 14100000000 14000000000 14000000000 13900000000 13800000000 13800000000\n",
      " 13700000000 13700000000 13600000000 13500000000]\n"
     ]
    }
   ],
   "source": [
    "import pandas as pd\n",
    "data = pd.read_csv('C:/Users/kris/OneDrive/Desktop/top100-richest-people.csv')\n",
    "networth = np.array(data['networth'])\n",
    "print(networth)"
   ]
  },
  {
   "cell_type": "code",
   "execution_count": 58,
   "id": "da1d50db",
   "metadata": {},
   "outputs": [
    {
     "name": "stdout",
     "output_type": "stream",
     "text": [
      "    rank                  name   networthtext     networth nationality  \\\n",
      "0      1            Bill Gates    $86 Billion  86000000000    American   \n",
      "1      2  Amancio Ortega Gaona    $71 Billion  71000000000     Spanish   \n",
      "2      3        Warren Buffett  $70.2 Billion  70200000000    American   \n",
      "3      4        Vladimir Putin    $70 Billion  70000000000     Russian   \n",
      "4      5      Carlos Slim Helu    $68 Billion  68000000000     Mexican   \n",
      "..   ...                   ...            ...          ...         ...   \n",
      "95    96            Shiv Nadar  $13.8 Billion  13800000000      Indian   \n",
      "96    97          John Paulson  $13.7 Billion  13700000000    American   \n",
      "97    98           Harold Hamm  $13.7 Billion  13700000000    American   \n",
      "98    99           Zhou Qunfei  $13.6 Billion  13600000000     Chinese   \n",
      "99   100     Anne Cox Chambers  $13.5 Billion  13500000000    American   \n",
      "\n",
      "               company         whattheydo  \\\n",
      "0            microsoft  tech conglomerate   \n",
      "1              inditex            fashion   \n",
      "2   berkshire hathaway          investing   \n",
      "3                  NaN                NaN   \n",
      "4         groupo carso  Mega conglomerate   \n",
      "..                 ...                ...   \n",
      "95                 NaN               tech   \n",
      "96                 NaN                NaN   \n",
      "97                 NaN                NaN   \n",
      "98                 NaN                NaN   \n",
      "99                 NaN                NaN   \n",
      "\n",
      "                                                title  \\\n",
      "0                           Tech Founder of Microsoft   \n",
      "1   founding chairman of the Inditex fashion group...   \n",
      "2       business magnate, investor and philanthropist   \n",
      "3                                          politician   \n",
      "4                                        conglomerate   \n",
      "..                                                ...   \n",
      "95           tech tycoon. founder and chairman of HCL   \n",
      "96        manages the hedge fund, Paulson and Company   \n",
      "97                                 oilman/businessman   \n",
      "98                     entrepreneur and businesswoman   \n",
      "99  media proprietor. Anne Cox Chambers is the sur...   \n",
      "\n",
      "                                           Unnamed: 8  \n",
      "0                                                 NaN  \n",
      "1                                                 NaN  \n",
      "2                                                 NaN  \n",
      "3                                                 NaN  \n",
      "4                                                 NaN  \n",
      "..                                                ...  \n",
      "95  http://www.celebritynetworth.com/richest-busin...  \n",
      "96  http://www.celebritynetworth.com/richest-busin...  \n",
      "97  http://www.celebritynetworth.com/richest-busin...  \n",
      "98  http://www.celebritynetworth.com/richest-busin...  \n",
      "99  http://www.celebritynetworth.com/richest-busin...  \n",
      "\n",
      "[100 rows x 9 columns]\n"
     ]
    }
   ],
   "source": [
    "print(data)"
   ]
  },
  {
   "cell_type": "code",
   "execution_count": 53,
   "id": "8b280b35",
   "metadata": {
    "slideshow": {
     "slide_type": "fragment"
    }
   },
   "outputs": [
    {
     "name": "stdout",
     "output_type": "stream",
     "text": [
      "Mean networth:        25255500000.0\n",
      "Standard deviation: 14634939178.213213\n",
      "Minimum networth:     13500000000\n",
      "Maximum networth:     86000000000\n"
     ]
    }
   ],
   "source": [
    "print(\"Mean networth:       \", networth.mean())\n",
    "print(\"Standard deviation:\", networth.std())\n",
    "print(\"Minimum networth:    \", networth.min())\n",
    "print(\"Maximum networth:    \", networth.max())"
   ]
  },
  {
   "cell_type": "code",
   "execution_count": 55,
   "id": "e3f88f35",
   "metadata": {
    "slideshow": {
     "slide_type": "fragment"
    }
   },
   "outputs": [
    {
     "name": "stdout",
     "output_type": "stream",
     "text": [
      "25th percentile:    15350000000.0\n",
      "Median:             19850000000.0\n",
      "75th percentile:    29175000000.0\n"
     ]
    }
   ],
   "source": [
    "print(\"25th percentile:   \", np.percentile(networth, 25))\n",
    "print(\"Median:            \", np.median(networth))\n",
    "print(\"75th percentile:   \", np.percentile(networth, 75))"
   ]
  },
  {
   "cell_type": "code",
   "execution_count": 56,
   "id": "ad6bb9f5",
   "metadata": {
    "slideshow": {
     "slide_type": "subslide"
    }
   },
   "outputs": [],
   "source": [
    "%matplotlib inline\n",
    "import matplotlib.pyplot as plt\n",
    "import seaborn; seaborn.set()  # set plot style"
   ]
  },
  {
   "cell_type": "code",
   "execution_count": 57,
   "id": "797e3f62",
   "metadata": {
    "slideshow": {
     "slide_type": "fragment"
    }
   },
   "outputs": [
    {
     "data": {
      "image/png": "[encoded data removed]",
      "text/plain": [
       "<Figure size 432x288 with 1 Axes>"
      ]
     },
     "metadata": {},
     "output_type": "display_data"
    }
   ],
   "source": [
    "plt.hist(networth)\n",
    "plt.title('Networth Distribution of Top 100 Richest People')\n",
    "plt.xlabel('networth')\n",
    "plt.ylabel('number');"
   ]
  },
  {
   "cell_type": "markdown",
   "id": "e58250d3",
   "metadata": {
    "slideshow": {
     "slide_type": "slide"
    }
   },
   "source": [
    "These aggregates are some of the fundamental pieces of exploratory data analysis.\n",
    "\n",
    "You'll use this throughout this module, as well as the Data Science Group Project Module next semester."
   ]
  }
 ],
 "metadata": {
  "celltoolbar": "Slideshow",
  "kernelspec": {
   "display_name": "Python 3.9.12 ('base')",
   "language": "python",
   "name": "python3"
  },
  "language_info": {
   "codemirror_mode": {
    "name": "ipython",
    "version": 3
   },
   "file_extension": ".py",
   "mimetype": "text/x-python",
   "name": "python",
   "nbconvert_exporter": "python",
   "pygments_lexer": "ipython3",
   "version": "3.9.12"
  },
  "vscode": {
   "interpreter": {
    "hash": "519251286f1405f32e6cff55ed69bb1b79a31577ae9185a3274505f77a5b17cb"
   }
  }
 },
 "nbformat": 4,
 "nbformat_minor": 5
}
