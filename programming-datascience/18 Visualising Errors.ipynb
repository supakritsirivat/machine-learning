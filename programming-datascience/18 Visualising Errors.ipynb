{
 "cells": [
  {
   "cell_type": "markdown",
   "id": "152ee67a",
   "metadata": {
    "slideshow": {
     "slide_type": "slide"
    }
   },
   "source": [
    "# Visualising Errors\n",
    "\n",
    "For any scientific measurement, accurate accounting for errors is nearly as important, if not more important, than accurate reporting of the number itself. "
   ]
  },
  {
   "cell_type": "markdown",
   "id": "6b28efb4",
   "metadata": {
    "slideshow": {
     "slide_type": "fragment"
    }
   },
   "source": [
    "Example:\n",
    "    \n",
    "I am using some astrophysical observations to estimate the Hubble Constant (the local measurement of the expansion rate of the Universe)\n",
    " \n",
    "The current literature suggests a value of around 71 (km/s)/Mpc\n",
    "\n",
    "I measure a value of 74 (km/s)/Mpc with my method. \n",
    "\n",
    "Are the values consistent?"
   ]
  },
  {
   "cell_type": "markdown",
   "id": "1b40654a",
   "metadata": {
    "slideshow": {
     "slide_type": "subslide"
    }
   },
   "source": [
    "Suppose I augment this information with reported uncertainties: \n",
    "\n",
    "The current literature suggests a value of around 71 ± 2.5 (km/s)/Mpc\n",
    "\n",
    "My method has measured a value of 74 ± 5 (km/s)/Mpc. \n",
    "\n",
    "Now are the values consistent? That is a question that can be quantitatively answered.\n",
    "\n",
    "In visualisation of data and results, showing these errors effectively can make a plot convey much more complete information."
   ]
  },
  {
   "cell_type": "markdown",
   "id": "723b49ca",
   "metadata": {
    "slideshow": {
     "slide_type": "slide"
    }
   },
   "source": [
    "## Basic Errorbars"
   ]
  },
  {
   "cell_type": "code",
   "execution_count": 4,
   "id": "2db58cbe",
   "metadata": {
    "slideshow": {
     "slide_type": "fragment"
    }
   },
   "outputs": [],
   "source": [
    "%matplotlib inline\n",
    "import matplotlib.pyplot as plt\n",
    "plt.style.use('seaborn-whitegrid')\n",
    "import numpy as np"
   ]
  },
  {
   "cell_type": "code",
   "execution_count": 5,
   "id": "2d3eebdd",
   "metadata": {
    "slideshow": {
     "slide_type": "subslide"
    }
   },
   "outputs": [
    {
     "data": {
      "image/png": "[encoded data removed]",
      "text/plain": [
       "<Figure size 432x288 with 1 Axes>"
      ]
     },
     "metadata": {},
     "output_type": "display_data"
    }
   ],
   "source": [
    "x = np.linspace(0, 10, 50)\n",
    "dy = 0.8\n",
    "y = np.sin(x) + dy * np.random.randn(50)\n",
    "\n",
    "plt.errorbar(x, y, yerr=dy, fmt='.k');"
   ]
  },
  {
   "cell_type": "markdown",
   "id": "2aed9eb2",
   "metadata": {
    "slideshow": {
     "slide_type": "fragment"
    }
   },
   "source": [
    "`fmt` is a format code controlling the appearance of lines and points\n",
    "\n",
    "It has the same syntax as the shorthand used in `plt.plot`"
   ]
  },
  {
   "cell_type": "code",
   "execution_count": 6,
   "id": "8a61db16",
   "metadata": {
    "slideshow": {
     "slide_type": "subslide"
    }
   },
   "outputs": [
    {
     "data": {
      "image/png": "[encoded data removed]",
      "text/plain": [
       "<Figure size 432x288 with 1 Axes>"
      ]
     },
     "metadata": {},
     "output_type": "display_data"
    }
   ],
   "source": [
    "plt.errorbar(x, y, yerr=dy, fmt='o', color='black',\n",
    "             ecolor='lightgray', elinewidth=3, capsize=0);"
   ]
  }
 ],
 "metadata": {
  "celltoolbar": "Slideshow",
  "kernelspec": {
   "display_name": "Python 3.9.12 ('base')",
   "language": "python",
   "name": "python3"
  },
  "language_info": {
   "codemirror_mode": {
    "name": "ipython",
    "version": 3
   },
   "file_extension": ".py",
   "mimetype": "text/x-python",
   "name": "python",
   "nbconvert_exporter": "python",
   "pygments_lexer": "ipython3",
   "version": "3.9.12"
  },
  "vscode": {
   "interpreter": {
    "hash": "519251286f1405f32e6cff55ed69bb1b79a31577ae9185a3274505f77a5b17cb"
   }
  }
 },
 "nbformat": 4,
 "nbformat_minor": 5
}
